import cv2
import numpy as np
from google.colab.patches import cv2_imshow

def sum_abs_diff(arr1, arr2):
    ans = 0
    l = len(arr1)

    for i in range(l):
      if(arr1[i] > arr2[i]):
        ans = ans + arr1[i] - arr2[i]
      else:
        ans = ans + arr2[i] - arr1[i]


    return ans


img_list = []
final_images = []


for i in range(1, 17):
  s = s = '/content/sample_data/Tiger/' + str(i) + '.jpg'
  img = cv2.imread(s)
  gray_img = cv2.cvtColor(img, cv2.COLOR_RGB2GRAY)
  img_list.append(gray_img)

#****************************************************************************************************************************************************************************************

#Determine top left corner
cnt_top_left = 1000000
ind_top_left = 0
ind_tl = 0
for image in img_list:
  top_arr = image[0, :]
  left_arr = image[:, 0]
  total = 0
  for i in top_arr:
    total = total + i
  for i in left_arr:
    total = total + i
  if(total < cnt_top_left):
    cnt_top_left = total
    ind_top_left = ind_tl
  ind_tl = ind_tl + 1

top_left = img_list[ind_top_left]
del img_list[ind_top_left]


#Hstacking top left
cnt_hstack_tl = 0
while(cnt_hstack_tl < 3):
  temp = 10000000
  tempimg = img_list[0]
  ind = 0
  cnt = 0
  for i in img_list:
    if(sum_abs_diff(top_left[:, -1], i[:, 0]) < temp):
      temp = sum_abs_diff(top_left[:, -1], i[:, 0])
      tempimg = i
      ind = cnt
    cnt = cnt + 1
  top_left = np.hstack((top_left, tempimg))
  del img_list[ind]
  cnt_hstack_tl = cnt_hstack_tl + 1

final_images.append(top_left)

# print(len(img_list))
#****************************************************************************************************************************************************************************************

#Determine bottom left corner
cnt_bottom_left = 1000000
ind_bottom_left = 0
ind_bl = 0
for image in img_list:
  bottom_arr = image[-1, :]
  left_arr = image[:, 0]
  total = 0
  for i in bottom_arr:
    total = total + i
  for i in left_arr:
    total = total + i
  if(total < cnt_bottom_left):
    cnt_bottom_left = total
    ind_bottom_left = ind_bl
  ind_bl = ind_bl + 1

bottom_left = img_list[ind_bottom_left]
del img_list[ind_bottom_left]



#Hstacking bottom left
cnt_hstack_bl = 0
while(cnt_hstack_bl < 3):
  temp = 10000000
  tempimg = img_list[0]
  ind = 0
  cnt = 0
  for i in img_list:
    if(sum_abs_diff(bottom_left[:, -1], i[:, 0]) < temp):
      temp = sum_abs_diff(bottom_left[:, -1], i[:, 0])
      tempimg = i
      ind = cnt
    cnt = cnt + 1
  bottom_left = np.hstack((bottom_left, tempimg))
  del img_list[ind]
  cnt_hstack_bl = cnt_hstack_bl + 1

final_images.append(bottom_left)

#****************************************************************************************************************************************************************************************

#Determine mid first left corner
cnt_mid_first_left = 1000000
ind_mid_first_left = 0
ind_mf_l = 0
for image in img_list:
  left_arr = image[:, 0]
  total = 0
  for i in left_arr:
    total = total + i
  if(total < cnt_mid_first_left):
    cnt_mid_first_left = total
    ind_mid_first_left = ind_mf_l
  ind_mf_l = ind_mf_l + 1

mid_first_left = img_list[ind_mid_first_left]
del img_list[ind_mid_first_left]

#Hstacking mid first left
cnt_hstack_mfl = 0
while(cnt_hstack_mfl < 3):
  temp = 10000000
  tempimg = img_list[0]
  ind = 0
  cnt = 0
  for i in img_list:
    if(sum_abs_diff(mid_first_left[:, -1], i[:, 0]) < temp):
      temp = sum_abs_diff(mid_first_left[:, -1], i[:, 0])
      tempimg = i
      ind = cnt
    cnt = cnt + 1
  mid_first_left = np.hstack((mid_first_left, tempimg))
  del img_list[ind]
  cnt_hstack_mfl = cnt_hstack_mfl + 1

final_images.append(mid_first_left)

#****************************************************************************************************************************************************************************************

#Determine mid second left corner
cnt_mid_second_left = 1000000
ind_mid_second_left = 0
ind_ms_l = 0
for image in img_list:
  left_arr = image[:, 0]
  total = 0
  for i in left_arr:
    total = total + i
  if(total < cnt_mid_second_left):
    cnt_mid_second_left = total
    ind_mid_second_left = ind_ms_l
  ind_ms_l = ind_ms_l + 1

mid_second_left = img_list[ind_mid_second_left]
del img_list[ind_mid_second_left]

#Hstacking mid first left
cnt_hstack_msl = 0
while(cnt_hstack_msl < 3):
  temp = 10000000
  tempimg = img_list[0]
  ind = 0
  cnt = 0
  for i in img_list:
    if(sum_abs_diff(mid_second_left[:, -1], i[:, 0]) < temp):
      temp = sum_abs_diff(mid_second_left[:, -1], i[:, 0])
      tempimg = i
      ind = cnt
    cnt = cnt + 1
  mid_second_left = np.hstack((mid_second_left, tempimg))
  del img_list[ind]
  cnt_hstack_msl = cnt_hstack_msl + 1

final_images.append(mid_second_left)

#****************************************************************************************************************************************************************************************

#Final Answer

ans = final_images[0]
del final_images[0]

while(len(final_images) != 0):
  temp = 10000000
  tempimg = final_images[0]
  ind = 0
  cnt = 0
  for i in final_images:
    if(sum_abs_diff(ans[-1, :], i[0, :]) < temp):
      temp = sum_abs_diff(ans[-1, :], i[0, :])
      tempimg = i
      ind = cnt
    cnt = cnt + 1
  ans = np.vstack((ans, tempimg))
  del final_images[ind]

cv2_imshow(ans)

